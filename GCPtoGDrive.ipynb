{
  "nbformat": 4,
  "nbformat_minor": 0,
  "metadata": {
    "colab": {
      "name": "GCPtoGDrive.ipynb",
      "provenance": [],
      "collapsed_sections": [],
      "authorship_tag": "ABX9TyM4nWl4X8FW51BjO3bTjvbF",
      "include_colab_link": true
    },
    "kernelspec": {
      "display_name": "Python 3",
      "name": "python3"
    }
  },
  "cells": [
    {
      "cell_type": "markdown",
      "metadata": {
        "id": "view-in-github",
        "colab_type": "text"
      },
      "source": [
        "<a href=\"https://colab.research.google.com/github/setalias/GCPtoGDrive/blob/main/GCPtoGDrive.ipynb\" target=\"_parent\"><img src=\"https://colab.research.google.com/assets/colab-badge.svg\" alt=\"Open In Colab\"/></a>"
      ]
    },
    {
      "cell_type": "code",
      "metadata": {
        "colab": {
          "base_uri": "https://localhost:8080/"
        },
        "id": "z3mT4K5fY1Xl",
        "outputId": "c2a1a622-6fcd-4439-c2f5-a09c2000f2fe"
      },
      "source": [
        "#link your google drive\n",
        "from google.colab import drive\n",
        "drive.mount('/content/drive')\n"
      ],
      "execution_count": null,
      "outputs": [
        {
          "output_type": "stream",
          "text": [
            "Mounted at /content/drive\n"
          ],
          "name": "stdout"
        }
      ]
    },
    {
      "cell_type": "code",
      "metadata": {
        "id": "ro3Dpe5-Y3cw"
      },
      "source": [
        "#link your Google Cloud Project\n",
        "from google.colab import auth\n",
        "auth.authenticate_user()\n",
        "\n",
        "#input your unique project ID here\n",
        "project_id = 'ardent-strategy-123456' \n",
        "\n",
        "!gcloud config set project {project_id}\n",
        "\n",
        "#list the files and directories in your project bucket root\n",
        "!gsutil ls"
      ],
      "execution_count": null,
      "outputs": []
    },
    {
      "cell_type": "code",
      "metadata": {
        "id": "XhN545J5aat7"
      },
      "source": [
        "#to copy from GCP to GDrive\n",
        "\n",
        "#input your target bucket here\n",
        "bucket_name = 'cmpsc445-automl/real_images'\n",
        "\n",
        "#gs util to perform operation. !gsutil -options cp -options <source> <dest> \n",
        "#-m uses multithreading option for performance. cp copies. -r recursively looks through the folders\n",
        "!gsutil -m cp -r gs://{bucket_name}/* /content/drive/My\\ Drive/data/automl/real_images/"
      ],
      "execution_count": null,
      "outputs": []
    }
  ]
}