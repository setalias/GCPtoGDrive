{
  "nbformat": 4,
  "nbformat_minor": 0,
  "metadata": {
    "colab": {
      "name": "GCPtoGDrive.ipynb",
      "provenance": [],
      "collapsed_sections": [],
      "authorship_tag": "ABX9TyMiCxOTtR6xtQ7W+Xm2UUks"
    },
    "kernelspec": {
      "display_name": "Python 3",
      "name": "python3"
    }
  },
  "cells": [
    {
      "cell_type": "markdown",
      "metadata": {
        "id": "uZSiVJngU88x"
      },
      "source": [
        "### Outline\n",
        "Google Cloud Platform presents some challenges when using the gsutil utility to transfer directories and large volumes of files between platforms, or from GCP to your local machine. This program will bridge that gap and move directly between GCP & GDrive a bit more intuitively. \n",
        "\n",
        "Written using Google Colab, you do not need to modify permissions in GCP.\n"
      ]
    },
    {
      "cell_type": "markdown",
      "metadata": {
        "id": "2-lM--JQVwOZ"
      },
      "source": [
        "###Code"
      ]
    },
    {
      "cell_type": "code",
      "metadata": {
        "colab": {
          "base_uri": "https://localhost:8080/"
        },
        "id": "z3mT4K5fY1Xl",
        "outputId": "c2a1a622-6fcd-4439-c2f5-a09c2000f2fe"
      },
      "source": [
        "#link your google drive\n",
        "from google.colab import drive\n",
        "drive.mount('/content/drive')\n"
      ],
      "execution_count": null,
      "outputs": [
        {
          "output_type": "stream",
          "text": [
            "Mounted at /content/drive\n"
          ],
          "name": "stdout"
        }
      ]
    },
    {
      "cell_type": "code",
      "metadata": {
        "id": "ro3Dpe5-Y3cw"
      },
      "source": [
        "#link your Google Cloud Project\n",
        "from google.colab import auth\n",
        "auth.authenticate_user()\n",
        "\n",
        "#input your unique project ID here\n",
        "project_id = 'ardent-strategy-123456' \n",
        "\n",
        "!gcloud config set project {project_id}\n",
        "\n",
        "#list the files and directories in your project bucket root\n",
        "!gsutil ls"
      ],
      "execution_count": null,
      "outputs": []
    },
    {
      "cell_type": "code",
      "metadata": {
        "id": "XhN545J5aat7"
      },
      "source": [
        "#copy from GCP to GDrive\n",
        "\n",
        "#input your target bucket\n",
        "bucket_name = 'my-awesome-bucket'\n",
        "#input your GDrive folder\n",
        "folder_name = 'data'\n",
        "\n",
        "#gsutil to perform operation. !gsutil -<option> <action> -<option> <source> <dest> \n",
        "#-m uses multithreading option for performance. cp copies. -r recursively looks through the folders\n",
        "!gsutil -m cp -r gs://{bucket_name}/* /content/drive/My\\ Drive/{folder_name}/"
      ],
      "execution_count": null,
      "outputs": []
    }
  ]
}